{
 "cells": [
  {
   "cell_type": "markdown",
   "metadata": {},
   "source": [
    "Homework:\n",
    "\n",
    "#1. Given a side of square. Find its perimeter and area.\n",
    "#2. Given diameter of circle. Find its length.\n",
    "#3. Given two numbers a and b. Find their mean.\n",
    "#4. Given two numbers a and b. Find their sum, product and square of each number."
   ]
  },
  {
   "cell_type": "code",
   "execution_count": 8,
   "metadata": {},
   "outputs": [
    {
     "name": "stdout",
     "output_type": "stream",
     "text": [
      "perimeter is 20\n",
      "area is 25\n"
     ]
    }
   ],
   "source": [
    "#1.  Given a side of square. Find its perimeter and area.\n",
    "a=5\n",
    "\n",
    "perimeter=4*a\n",
    "print(f\"perimeter is {perimeter}\")\n",
    "area=a**2\n",
    "print(f\"area is {area}\")\n"
   ]
  },
  {
   "cell_type": "code",
   "execution_count": 10,
   "metadata": {},
   "outputs": [
    {
     "name": "stdout",
     "output_type": "stream",
     "text": [
      "length of the circle is 15.70795\n"
     ]
    }
   ],
   "source": [
    "#2. Given diameter of circle. Find its length.\n",
    "\n",
    "d=5\n",
    "p=3.14159\n",
    "\n",
    "length_of_circle=p*d\n",
    "print(f\"length of the circle is {length_of_circle}\")\n"
   ]
  },
  {
   "cell_type": "code",
   "execution_count": 12,
   "metadata": {},
   "outputs": [
    {
     "name": "stdout",
     "output_type": "stream",
     "text": [
      "23.0\n"
     ]
    }
   ],
   "source": [
    "#3. Given two numbers a and b. Find their mean.\n",
    "\n",
    "a=15\n",
    "b=31\n",
    "\n",
    "ortacha_qiymat=(a+b)/2\n",
    "print(ortacha_qiymat)\n"
   ]
  },
  {
   "cell_type": "code",
   "execution_count": 13,
   "metadata": {},
   "outputs": [
    {
     "name": "stdout",
     "output_type": "stream",
     "text": [
      "sum is 50\n",
      "product is 525\n",
      "Square of a is 1225\n",
      "Square of b is 225\n"
     ]
    }
   ],
   "source": [
    "#4. Given two numbers a and b. Find their sum, product and square of each number.\n",
    "\n",
    "a=35\n",
    "b=15\n",
    "\n",
    "sum=a+b\n",
    "product=a*b\n",
    "square_a=a**2\n",
    "square_b=b**2\n",
    "\n",
    "print(f\"sum is {sum}\")\n",
    "print(f\"product is {product}\")\n",
    "print(f\"Square of a is {square_a}\")\n",
    "print(f\"Square of b is {square_b}\")\n"
   ]
  }
 ],
 "metadata": {
  "kernelspec": {
   "display_name": "Python 3",
   "language": "python",
   "name": "python3"
  },
  "language_info": {
   "codemirror_mode": {
    "name": "ipython",
    "version": 3
   },
   "file_extension": ".py",
   "mimetype": "text/x-python",
   "name": "python",
   "nbconvert_exporter": "python",
   "pygments_lexer": "ipython3",
   "version": "3.11.9"
  }
 },
 "nbformat": 4,
 "nbformat_minor": 2
}
