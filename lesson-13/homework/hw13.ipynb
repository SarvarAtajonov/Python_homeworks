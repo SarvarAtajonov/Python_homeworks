{
 "cells": [
  {
   "cell_type": "markdown",
   "metadata": {},
   "source": [
    "Homework:\n",
    "\n",
    "1.Age Calculator: Ask the user to enter their birthdate. Calculate and print their age in years, months, and days.\n",
    "2.Days Until Next Birthday: Similar to the first exercise, but this time, calculate and print the number of days remaining until the user's next birthday.\n",
    "3.Meeting Scheduler: Ask the user to enter the current date and time, as well as the duration of a meeting in hours and minutes. Calculate and print the date and time when the meeting will end.\n",
    "4.Timezone Converter: Create a program that allows the user to enter a date and time along with their current timezone, and then convert and print the date and time in another timezone of their choice.\n",
    "5.Countdown Timer: Implement a countdown timer. Ask the user to input a future date and time, and then continuously print the time remaining until that point in regular intervals (e.g., every second).\n",
    "6.Email Validator: Write a program that validates email addresses. Ask the user to input an email address, and check if it follows a valid email format.\n",
    "7.Phone Number Formatter: Create a program that takes a phone number as input and formats it according to a standard format. For example, convert \"1234567890\" to \"(123) 456-7890\".\n",
    "8.Password Strength Checker: Implement a password strength checker. Ask the user to input a password and check if it meets certain criteria (e.g., minimum length, contains at least one uppercase letter, one lowercase letter, and one digit).\n",
    "9.Word Finder: Develop a program that finds all occurrences of a specific word in a given text. Ask the user to input a word, and then search for and print all occurrences of that word in a sample text.\n",
    "10.Date Extractor: Write a program that extracts dates from a given text. Ask the user to input a text, and then identify and print all the dates present in the text."
   ]
  },
  {
   "cell_type": "code",
   "execution_count": 11,
   "metadata": {},
   "outputs": [
    {
     "name": "stdout",
     "output_type": "stream",
     "text": [
      "in years 20\n",
      "in month 250\n",
      "in days 7621\n"
     ]
    }
   ],
   "source": [
    "#1. Age Calculator: Ask the user to enter their birthdate. Calculate and print their age in years, months, and days.\n",
    "\n",
    "\n",
    "from datetime import date\n",
    "from dateutil.relativedelta import relativedelta\n",
    "\n",
    "a1=input(\"Enter your birthday(YYYY MM DD)\")\n",
    "year, month, day = map(int, a1.split())\n",
    "birthday=date(year, month, day)\n",
    "\n",
    "today=date.today()\n",
    "\n",
    "age=relativedelta(today, birthday)\n",
    "\n",
    "age_years=age.years\n",
    "age_months = (age.years * 12) + age.months\n",
    "age_day=(today-birthday).days\n",
    "\n",
    "print(f'in years {age_years}')\n",
    "print(f'in month {age_months}')\n",
    "print(f'in days {age_day}')\n"
   ]
  },
  {
   "cell_type": "code",
   "execution_count": 15,
   "metadata": {},
   "outputs": [
    {
     "name": "stdout",
     "output_type": "stream",
     "text": [
      "362 days untill next birthday\n"
     ]
    }
   ],
   "source": [
    "#2.Days Until Next Birthday: Similar to the first exercise, but this time, calculate and print the number of days remaining until the user's next birthday.\n",
    "\n",
    "from datetime import date\n",
    "\n",
    "next_birthday=date(2026, 2, 1)\n",
    "today=date.today()\n",
    "\n",
    "remaining=(next_birthday-today).days\n",
    "\n",
    "print(f'{remaining} days untill next birthday')"
   ]
  },
  {
   "cell_type": "code",
   "execution_count": 20,
   "metadata": {},
   "outputs": [
    {
     "name": "stdout",
     "output_type": "stream",
     "text": [
      "Meeting start time: 2025-02-04 09:36:00\n",
      "Meeting end time: 2025-02-04 11:11:00\n"
     ]
    }
   ],
   "source": [
    "#3.Meeting Scheduler: Ask the user to enter the current date and time, as well as the duration of a meeting in hours and minutes. \n",
    "# Calculate and print the date and time when the meeting will end.\n",
    "\n",
    "from datetime import datetime, timedelta\n",
    "\n",
    "now=input(\"Enter current date and time (YYYY MM DD HH MM)\")\n",
    "year, month, day, hour, minute=map(int, now.split())\n",
    "\n",
    "duration=input(\"Enter the duration of a meeting (HH MM)\")\n",
    "dur_hours, dur_minutes=map(int, duration.split())\n",
    "\n",
    "time1=datetime(year, month, day, hour, minute)\n",
    "\n",
    "time2 = time1 + timedelta(hours=dur_hours, minutes=dur_minutes)\n",
    "\n",
    "print(f\"Meeting start time: {time1}\")\n",
    "print(f\"Meeting end time: {time2}\")\n"
   ]
  },
  {
   "cell_type": "code",
   "execution_count": 1,
   "metadata": {},
   "outputs": [
    {
     "name": "stdout",
     "output_type": "stream",
     "text": [
      "Converted time: 2025-02-04 23:18 UTC\n"
     ]
    }
   ],
   "source": [
    "#4.Timezone Converter: Create a program that allows the user to enter a date and time along with their current timezone, and then \n",
    "# convert and print the date and time in another timezone of their choice.\n",
    "\n",
    "from datetime import datetime, timedelta, timezone\n",
    "\n",
    "dt_str = input(\"Enter date and time (YYYY-MM-DD HH:MM): \")\n",
    "current_offset = int(input(\"Enter your current UTC offset (e.g., +5 or -3): \"))\n",
    "target_offset = int(input(\"Enter target UTC offset (e.g., +2 or -6): \"))\n",
    "\n",
    "dt = datetime.strptime(dt_str, \"%Y-%m-%d %H:%M\")\n",
    "\n",
    "current_timezone = timezone(timedelta(hours=current_offset))\n",
    "dt = dt.replace(tzinfo=current_timezone)\n",
    "\n",
    "target_timezone = timezone(timedelta(hours=target_offset))\n",
    "converted_dt = dt.astimezone(target_timezone)\n",
    "\n",
    "print(\"Converted time:\", converted_dt.strftime(\"%Y-%m-%d %H:%M %Z\"))\n"
   ]
  },
  {
   "cell_type": "code",
   "execution_count": 1,
   "metadata": {},
   "outputs": [
    {
     "name": "stdout",
     "output_type": "stream",
     "text": [
      "09:52:57\n",
      "09:53:57\n",
      "09:54:57\n",
      "09:55:57\n",
      "09:56:57\n",
      "09:57:57\n",
      "09:58:57\n",
      "09:59:57\n",
      "10:00:57\n",
      "10:01:57\n",
      "10:02:57\n",
      "10:03:57\n",
      "10:04:57\n",
      "10:05:22\n"
     ]
    }
   ],
   "source": [
    "#5.Countdown Timer: Implement a countdown timer. Ask the user to input a future date and time, and then continuously print the \n",
    "#time remaining until that point in regular intervals (e.g., every second).\n",
    "\n",
    "from datetime import datetime, timedelta\n",
    "\n",
    "future_input=input(\"Enter future time (HH:MM:SS):\")\n",
    "\n",
    "future_hour, future_minute, future_second = map(int, future_input.split(':'))\n",
    "\n",
    "future_time=datetime.now().replace(hour=future_hour, minute=future_minute, second=future_second, microsecond=0)\n",
    "\n",
    "now=datetime.now()\n",
    "\n",
    "while now < future_time:\n",
    "    print(now.strftime(\"%H:%M:%S\")) \n",
    "    now=now+timedelta(minutes=1)  \n",
    "\n",
    "print(future_time.strftime(\"%H:%M:%S\"))\n",
    "\n"
   ]
  },
  {
   "cell_type": "code",
   "execution_count": 2,
   "metadata": {},
   "outputs": [
    {
     "name": "stdout",
     "output_type": "stream",
     "text": [
      "Valid email address\n"
     ]
    }
   ],
   "source": [
    "#6.Email Validator: Write a program that validates email addresses. Ask the user to input an email address, and check if it follows a valid email format.\n",
    "\n",
    "import re\n",
    "\n",
    "p=r\"^[a-zA-Z0-9._%+-]+@[a-zA-Z0-9.-]+\\.[a-zA-Z]{2,}$\"\n",
    "\n",
    "email=input(\"Enter your email:\")\n",
    "if re.match(p, email):\n",
    "    print(\"Valid email address\")\n",
    "else:\n",
    "    print(\"Invalid email address\")"
   ]
  },
  {
   "cell_type": "code",
   "execution_count": 14,
   "metadata": {},
   "outputs": [
    {
     "name": "stdout",
     "output_type": "stream",
     "text": [
      "(546) 321-5782\n"
     ]
    }
   ],
   "source": [
    "#7.Phone Number Formatter: Create a program that takes a phone number as input and formats it according to a standard format. \n",
    "# For example, convert \"1234567890\" to \"(123) 456-7890\".\n",
    "\n",
    "import re\n",
    "\n",
    "p=r\"\\d{10}\"\n",
    "\n",
    "phone=input(\"Enter your phone number:\")\n",
    "number=re.findall(p, phone)[0]\n",
    "\n",
    "formatted_phone=f\"({number[:3]}) {number[3:6]}-{number[6:]}\"\n",
    "print(formatted_phone)\n"
   ]
  },
  {
   "cell_type": "code",
   "execution_count": 19,
   "metadata": {},
   "outputs": [
    {
     "name": "stdout",
     "output_type": "stream",
     "text": [
      "Invalid password\n"
     ]
    }
   ],
   "source": [
    "#8.Password Strength Checker: Implement a password strength checker. Ask the user to input a password and check if it meets certain criteria \n",
    "#(e.g., minimum length, contains at least one uppercase letter, one lowercase letter, and one digit).\n",
    "\n",
    "import re\n",
    "\n",
    "p=r\"^(?=.*[a-z])(?=.*[A-Z])(?=.*\\d).{5,}$\"\n",
    "phone=input(\"Enter a password:\")\n",
    "\n",
    "if re.match(p, phone):\n",
    "    print(\"Valid password\")\n",
    "else:\n",
    "    print(\"Invalid password\")"
   ]
  },
  {
   "cell_type": "code",
   "execution_count": 21,
   "metadata": {},
   "outputs": [
    {
     "name": "stdout",
     "output_type": "stream",
     "text": [
      "Valid password\n"
     ]
    }
   ],
   "source": [
    "import re\n",
    "\n",
    "p=r\"^(?=.*[a-z])(?=.*[A-Z])(?=.*\\d).{4,}$\"\n",
    "phone=input(\"Enter a password:\")\n",
    "\n",
    "if re.match(p, phone):\n",
    "    print(\"Valid password\")\n",
    "else:\n",
    "    print(\"Invalid password\")"
   ]
  },
  {
   "cell_type": "code",
   "execution_count": 28,
   "metadata": {},
   "outputs": [
    {
     "name": "stdout",
     "output_type": "stream",
     "text": [
      "Occurrences of 'LEArning' found in the text.\n",
      "- Learning\n",
      "- learning\n"
     ]
    }
   ],
   "source": [
    "#9.Word Finder: Develop a program that finds all occurrences of a specific word in a given text. Ask the user to input a word, and then \n",
    "# search for and print all occurrences of that word in a sample text.\n",
    "\n",
    "import re\n",
    "\n",
    "word=input(\"Enter the word to search for: \")\n",
    "\n",
    "p=rf\"\\b{re.escape(word)}\\b\"\n",
    "\n",
    "text=\"\"\"Python is a powerful programming language. Learning python can be fun and rewarding.\n",
    "Many people use python for data analysis, machine learning, and web development.\"\"\"\n",
    "\n",
    "matches=re.findall(p, text, re.IGNORECASE)\n",
    "\n",
    "if matches:\n",
    "    print(f\"Occurrences of '{word}' found in the text.\")\n",
    "    for match in matches:\n",
    "        print(f\"- {match}\")\n",
    "else:\n",
    "    print(f\"No occurrences of '{word}' found in the text.\")"
   ]
  },
  {
   "cell_type": "code",
   "execution_count": null,
   "metadata": {},
   "outputs": [
    {
     "name": "stdout",
     "output_type": "stream",
     "text": [
      "No dates found in text\n"
     ]
    }
   ],
   "source": [
    "#10.Date Extractor: Write a program that extracts dates from a given text. Ask the user to input a text, and then identify and \n",
    "# print all the dates present in the text.\n",
    "\n",
    "import re\n",
    "\n",
    "text=input(\"Enter text containing dates:\")\n",
    "\n",
    "p=r\"\\b(?:\\d{1,2}[-/]\\d{1,2}[-/]\\d{2,4}|\\d{4}[-/]\\d{1,2}[-/]\\d{1,2})\\b\"\n",
    "\n",
    "dates=re.findall(p, text)\n",
    "\n",
    "if dates:\n",
    "    print(\"Dates found in the text:\")\n",
    "    for i in dates:\n",
    "        print(i)\n",
    "else:\n",
    "    print(\"No dates found in text:\")\n",
    "        "
   ]
  }
 ],
 "metadata": {
  "kernelspec": {
   "display_name": "Python 3",
   "language": "python",
   "name": "python3"
  },
  "language_info": {
   "codemirror_mode": {
    "name": "ipython",
    "version": 3
   },
   "file_extension": ".py",
   "mimetype": "text/x-python",
   "name": "python",
   "nbconvert_exporter": "python",
   "pygments_lexer": "ipython3",
   "version": "3.11.9"
  }
 },
 "nbformat": 4,
 "nbformat_minor": 2
}
