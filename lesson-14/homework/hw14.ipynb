{
 "cells": [
  {
   "cell_type": "markdown",
   "metadata": {},
   "source": [
    "Homework\n",
    "1. Task: JSON Parsing\n",
    "write a Python script that reads the students.jon JSON file and prints details of each student.\n",
    "2. Task: Weather API\n",
    "Use this url : https://openweathermap.org/\n",
    "Use the requests library to fetch weather data for a specific city(ex. your hometown: Tashkent) and print relevant information (temperature, humidity, etc.).\n",
    "3. Task: JSON Modification\n",
    "Write a program that allows users to add new books, update existing book information, and delete books from the books.json JSON file.\n",
    "4. Task: Movie Recommendation System\n",
    "Use this url http://www.omdbapi.com/ to fetch information about movies.\n",
    "Create a program that asks users for a movie genre and recommends a random movie from that genre."
   ]
  },
  {
   "cell_type": "code",
   "execution_count": 9,
   "metadata": {},
   "outputs": [],
   "source": [
    "import json\n",
    "\n",
    "a={\n",
    "    \"id\": 4,\n",
    "    \"name\": \"Bob Brown\",\n",
    "    \"age\": 14,\n",
    "    \"grade\": \"8th\",\n",
    "    \"subjects\": [\"Geography\", \"Music\", \"Physical Education\"]}\n",
    "\n",
    "with open(\"sample.json\", \"w\") as file:\n",
    "    data=json.dump(a, file, indent=4)"
   ]
  },
  {
   "cell_type": "code",
   "execution_count": 10,
   "metadata": {},
   "outputs": [
    {
     "name": "stdout",
     "output_type": "stream",
     "text": [
      "{'id': 4, 'name': 'Bob Brown', 'age': 14, 'grade': '8th', 'subjects': ['Geography', 'Music', 'Physical Education']}\n"
     ]
    }
   ],
   "source": [
    "#1. write a Python script that reads the sample.json JSON file and prints details of each student.\n",
    "\n",
    "import json\n",
    "\n",
    "with open(\"sample.json\", \"r\") as file:\n",
    "    data = json.load(file)\n",
    "    print(data)"
   ]
  },
  {
   "cell_type": "code",
   "execution_count": 1,
   "metadata": {},
   "outputs": [
    {
     "name": "stdout",
     "output_type": "stream",
     "text": [
      "{'coord': {'lon': 69.2163, 'lat': 41.2646}, 'weather': [{'id': 804, 'main': 'Clouds', 'description': 'overcast clouds', 'icon': '04d'}], 'base': 'stations', 'main': {'temp': 4.88, 'feels_like': 3.17, 'temp_min': 4.88, 'temp_max': 4.88, 'pressure': 1023, 'humidity': 74, 'sea_level': 1023, 'grnd_level': 972}, 'visibility': 10000, 'wind': {'speed': 2.06, 'deg': 157, 'gust': 2.22}, 'clouds': {'all': 100}, 'dt': 1739171101, 'sys': {'country': 'UZ', 'sunrise': 1739154279, 'sunset': 1739191812}, 'timezone': 18000, 'id': 1512569, 'name': 'Tashkent', 'cod': 200}\n"
     ]
    }
   ],
   "source": [
    "#2. Task: Weather API\n",
    "#Use this url : https://openweathermap.org/\n",
    "#Use the requests library to fetch weather data for a specific city(ex. your hometown: Tashkent) and print relevant information (temperature, humidity, etc.).\n",
    "\n",
    "import requests\n",
    "\n",
    "api_key = \"c17f1b4a767363efcc6d8d3b1e04acdc\" \n",
    "city = \"Tashkent\"\n",
    "url = f\"https://api.openweathermap.org/data/2.5/weather?q={city}&appid={api_key}&units=metric\"\n",
    "\n",
    "response = requests.get(url)\n",
    "\n",
    "if response.status_code == 200:\n",
    "    weather_data = response.json()\n",
    "    print(weather_data) \n",
    "else:\n",
    "    print(\"Error:\", response.status_code)\n",
    "\n"
   ]
  }
 ],
 "metadata": {
  "kernelspec": {
   "display_name": "Python 3",
   "language": "python",
   "name": "python3"
  },
  "language_info": {
   "codemirror_mode": {
    "name": "ipython",
    "version": 3
   },
   "file_extension": ".py",
   "mimetype": "text/x-python",
   "name": "python",
   "nbconvert_exporter": "python",
   "pygments_lexer": "ipython3",
   "version": "3.11.9"
  }
 },
 "nbformat": 4,
 "nbformat_minor": 2
}
