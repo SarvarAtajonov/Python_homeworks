{
 "cells": [
  {
   "cell_type": "code",
   "execution_count": 4,
   "metadata": {},
   "outputs": [],
   "source": [
    "#1. Create a new database with a table named Roster that has three fields: Name, Species, and Age. \n",
    "# The Name and Species columns should be text fields, and the Age column should be an integer field.\n",
    "\n",
    "import sqlite3\n",
    "\n",
    "conn=sqlite3.connect(\"database.db\")\n",
    "\n",
    "cur=conn.cursor()\n",
    "query=\"create table IF NOT EXISTS roster (Name char(20), Species char(20), Age int )\"\n",
    "\n",
    "cur.execute(query)\n",
    "conn.commit()\n",
    "conn.close()\n",
    "\n"
   ]
  },
  {
   "cell_type": "code",
   "execution_count": 7,
   "metadata": {},
   "outputs": [],
   "source": [
    "#2. Populate your new table with the following values:\n",
    "\n",
    "\n",
    "conn=sqlite3.connect(\"database.db\")\n",
    "\n",
    "cur=conn.cursor()\n",
    "query='''insert into roster (Name, Species, Age) values\n",
    "    ('Benjamin Sisko', 'Human', 40),\n",
    "    ('Jadzia Dax', 'Trill', 300),\n",
    "    ('Kira Nerys', 'Bajoran', 29);'''\n",
    "\n",
    "cur.execute(query)\n",
    "conn.commit()\n",
    "conn.close()\n"
   ]
  },
  {
   "cell_type": "code",
   "execution_count": 10,
   "metadata": {},
   "outputs": [],
   "source": [
    "#3. Update the Name of Jadzia Dax to be Ezri Dax\n",
    "\n",
    "conn=sqlite3.connect('database.db')\n",
    "cur=conn.cursor()\n",
    "\n",
    "query=\"update roster set Name='Ezri Dax' where Name='Jadzia Dax'\"\n",
    "\n",
    "cur.execute(query)\n",
    "conn.commit()\n",
    "conn.close()"
   ]
  },
  {
   "cell_type": "code",
   "execution_count": null,
   "metadata": {},
   "outputs": [
    {
     "name": "stdout",
     "output_type": "stream",
     "text": [
      "[('Kira Nerys', 29)]\n"
     ]
    }
   ],
   "source": [
    "#4. Display the Name and Age of everyone in the table classified as Bajoran.\n",
    "\n",
    "conn=sqlite3.connect(\"database.db\")\n",
    "cur=conn.cursor()\n",
    "\n",
    "query=\"select Name, Age from roster where Species='Bajoran'\"\n",
    "\n",
    "cur.execute(query)\n",
    "results=cur.fetchall()\n",
    "\n",
    "conn.commit()\n",
    "conn.close()\n",
    "\n",
    "print(results)"
   ]
  }
 ],
 "metadata": {
  "kernelspec": {
   "display_name": "Python 3",
   "language": "python",
   "name": "python3"
  },
  "language_info": {
   "codemirror_mode": {
    "name": "ipython",
    "version": 3
   },
   "file_extension": ".py",
   "mimetype": "text/x-python",
   "name": "python",
   "nbconvert_exporter": "python",
   "pygments_lexer": "ipython3",
   "version": "3.11.9"
  }
 },
 "nbformat": 4,
 "nbformat_minor": 2
}
