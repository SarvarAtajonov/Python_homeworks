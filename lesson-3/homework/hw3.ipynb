{
 "cells": [
  {
   "cell_type": "markdown",
   "metadata": {},
   "source": [
    "Task 1: Append and Extend\n",
    "1.\tCreate a list of fruits: [\"apple\", \"banana\", \"cherry\"].\n",
    "2.\tAdd \"orange\" to the end of the list using append.\n",
    "3.\tExtend the list by adding another list: [\"grape\", \"kiwi\"].\n"
   ]
  },
  {
   "cell_type": "code",
   "execution_count": 3,
   "metadata": {},
   "outputs": [
    {
     "data": {
      "text/plain": [
       "['apple', 'banana', 'cherry', 'orange']"
      ]
     },
     "execution_count": 3,
     "metadata": {},
     "output_type": "execute_result"
    }
   ],
   "source": [
    "fruits=[\"apple\", \"banana\", \"cherry\"]\n",
    "fruits.append(\"orange\")\n",
    "fruits"
   ]
  },
  {
   "cell_type": "code",
   "execution_count": 5,
   "metadata": {},
   "outputs": [
    {
     "data": {
      "text/plain": [
       "['apple', 'banana', 'cherry', 'orange', 'grape', 'kiwi']"
      ]
     },
     "execution_count": 5,
     "metadata": {},
     "output_type": "execute_result"
    }
   ],
   "source": [
    "fruits1=[\"grape\", \"kiwi\"]\n",
    "fruits.extend(fruits1)\n",
    "fruits"
   ]
  },
  {
   "cell_type": "markdown",
   "metadata": {},
   "source": [
    "Task 2: Insert \n",
    "\n",
    "Create a list of numbers: [10, 20, 40, 50]. \n",
    "\n",
    "Insert the number 30 at index 2. "
   ]
  },
  {
   "cell_type": "code",
   "execution_count": 6,
   "metadata": {},
   "outputs": [
    {
     "data": {
      "text/plain": [
       "[10, 20, 30, 40, 50]"
      ]
     },
     "execution_count": 6,
     "metadata": {},
     "output_type": "execute_result"
    }
   ],
   "source": [
    "lst=[10, 20, 40, 50]\n",
    "lst.insert(2, 30)\n",
    "lst"
   ]
  },
  {
   "cell_type": "markdown",
   "metadata": {},
   "source": [
    "Task 3: Remove \n",
    "\n",
    "Create a list of colors: [\"red\", \"green\", \"blue\", \"yellow\", \"blue\"]. \n",
    "\n",
    "Remove the first occurrence of \"blue\" from the list. "
   ]
  },
  {
   "cell_type": "code",
   "execution_count": 7,
   "metadata": {},
   "outputs": [
    {
     "data": {
      "text/plain": [
       "['red', 'green', 'yellow', 'blue']"
      ]
     },
     "execution_count": 7,
     "metadata": {},
     "output_type": "execute_result"
    }
   ],
   "source": [
    "colors=[\"red\", \"green\", \"blue\", \"yellow\", \"blue\"]\n",
    "colors.remove(\"blue\")\n",
    "colors"
   ]
  },
  {
   "cell_type": "markdown",
   "metadata": {},
   "source": [
    "Task 4: Index \n",
    "\n",
    "Create a list of animals: [\"cat\", \"dog\", \"bird\", \"fish\"]. \n",
    "\n",
    "Find the index of \"bird\" in the list. "
   ]
  },
  {
   "cell_type": "code",
   "execution_count": 10,
   "metadata": {},
   "outputs": [
    {
     "data": {
      "text/plain": [
       "2"
      ]
     },
     "execution_count": 10,
     "metadata": {},
     "output_type": "execute_result"
    }
   ],
   "source": [
    "animals=[\"cat\", \"dog\", \"bird\", \"fish\"]\n",
    "animals.index(\"bird\")"
   ]
  },
  {
   "cell_type": "markdown",
   "metadata": {},
   "source": [
    "Task 5: Count \n",
    "\n",
    "Create a list of numbers: c. \n",
    "\n",
    "Count how many times 1 appears in the list. "
   ]
  },
  {
   "cell_type": "code",
   "execution_count": 11,
   "metadata": {},
   "outputs": [
    {
     "data": {
      "text/plain": [
       "3"
      ]
     },
     "execution_count": 11,
     "metadata": {},
     "output_type": "execute_result"
    }
   ],
   "source": [
    "numbers=[1, 2, 3, 4, 1, 2, 1]\n",
    "numbers.count(1)"
   ]
  },
  {
   "cell_type": "markdown",
   "metadata": {},
   "source": [
    "Task 6: Reverse \n",
    "\n",
    "Create a list of integers: [5, 10, 15, 20, 25]. \n",
    "\n",
    "Reverse the order of elements in the list. "
   ]
  },
  {
   "cell_type": "code",
   "execution_count": 13,
   "metadata": {},
   "outputs": [
    {
     "data": {
      "text/plain": [
       "[25, 20, 15, 10, 5]"
      ]
     },
     "execution_count": 13,
     "metadata": {},
     "output_type": "execute_result"
    }
   ],
   "source": [
    "integers=[5, 10, 15, 20, 25]\n",
    "integers.reverse()\n",
    "integers"
   ]
  },
  {
   "cell_type": "markdown",
   "metadata": {},
   "source": [
    "Task 7: Sort \n",
    "\n",
    "Create a list of numbers: [7, 3, 9, 1, 5]. \n",
    "\n",
    "Sort the list in ascending order. \n",
    "\n",
    "Sort the same list in descending order. "
   ]
  },
  {
   "cell_type": "code",
   "execution_count": 16,
   "metadata": {},
   "outputs": [
    {
     "data": {
      "text/plain": [
       "[9, 7, 5, 3, 1]"
      ]
     },
     "execution_count": 16,
     "metadata": {},
     "output_type": "execute_result"
    }
   ],
   "source": [
    "lst_number=[7, 3, 9, 1, 5]\n",
    "lst_number.sort()\n",
    "lst_number.sort(reverse=True)\n",
    "lst_number"
   ]
  },
  {
   "cell_type": "markdown",
   "metadata": {},
   "source": [
    "Task 8: Copy \n",
    "\n",
    "Create a list of cities: [\"New York\", \"Paris\", \"Tokyo\", \"Sydney\"]. \n",
    "\n",
    "Make a copy of the list using the copy method. \n",
    "\n",
    "Verify that changes to the original list do not affect the copied list. "
   ]
  },
  {
   "cell_type": "code",
   "execution_count": 17,
   "metadata": {},
   "outputs": [
    {
     "name": "stdout",
     "output_type": "stream",
     "text": [
      "['New York', 'Paris', 'Tokyo', 'Sydney']\n",
      "['New York', 'Paris', 'Tokyo', 'Sydney', 'tashkent']\n"
     ]
    }
   ],
   "source": [
    "cities=[\"New York\", \"Paris\", \"Tokyo\", \"Sydney\"]\n",
    "cities1=cities.copy()\n",
    "cities1.append(\"tashkent\")\n",
    "print(cities)\n",
    "print(cities1)"
   ]
  },
  {
   "cell_type": "markdown",
   "metadata": {},
   "source": [
    "Task 9: Clear \n",
    "\n",
    "Create a list of random numbers: [8, 4, 6, 2, 9]. \n",
    "\n",
    "Use the clear method to empty the list. "
   ]
  },
  {
   "cell_type": "code",
   "execution_count": 18,
   "metadata": {},
   "outputs": [
    {
     "data": {
      "text/plain": [
       "[]"
      ]
     },
     "execution_count": 18,
     "metadata": {},
     "output_type": "execute_result"
    }
   ],
   "source": [
    "r_numbers=[8, 4, 6, 2, 9]\n",
    "r_numbers.clear()\n",
    "r_numbers"
   ]
  },
  {
   "cell_type": "markdown",
   "metadata": {},
   "source": [
    "Task 10: Pop \n",
    "\n",
    "Create a list of months: [\"January\", \"February\", \"March\", \"April\", \"May\"]. \n",
    "\n",
    "Remove and return the last element of the list using pop. \n",
    "\n",
    "Remove and return the second element of the list using pop(1). "
   ]
  },
  {
   "cell_type": "code",
   "execution_count": 22,
   "metadata": {},
   "outputs": [
    {
     "data": {
      "text/plain": [
       "['January', 'February', 'March']"
      ]
     },
     "execution_count": 22,
     "metadata": {},
     "output_type": "execute_result"
    }
   ],
   "source": [
    "ls_months=[\"January\", \"February\", \"March\", \"April\", \"May\"]\n",
    "ls_months.pop(4)\n",
    "ls_months.pop() #pop ga hech qanday index berilmasa, oxirgi elementni o'chiradi\n",
    "ls_months"
   ]
  },
  {
   "cell_type": "markdown",
   "metadata": {},
   "source": [
    "Level 2 \n",
    "\n",
    "Task 1: Create and Modify Lists \n",
    "\n",
    "Create a list of 5 random integers between 1 and 100. \n",
    "\n",
    "Add a new number to the list at the end. \n",
    "\n",
    "Replace the second element in the list with a new number. \n",
    "\n",
    "Remove the third element from the list. "
   ]
  },
  {
   "cell_type": "code",
   "execution_count": null,
   "metadata": {},
   "outputs": [],
   "source": [
    "import random   #Takrorlanmaydigan random \n",
    "random_n = random.sample(range(1, 100), 5)\n",
    "print(random_n)\n"
   ]
  },
  {
   "cell_type": "code",
   "execution_count": 38,
   "metadata": {},
   "outputs": [
    {
     "name": "stdout",
     "output_type": "stream",
     "text": [
      "[98, 45, 65, 62, 15, 5]\n"
     ]
    }
   ],
   "source": [
    "random_n.append(5)\n",
    "print(random_n)"
   ]
  },
  {
   "cell_type": "code",
   "execution_count": 39,
   "metadata": {},
   "outputs": [
    {
     "name": "stdout",
     "output_type": "stream",
     "text": [
      "[98, 45, 62, 15, 5]\n"
     ]
    }
   ],
   "source": [
    "random_n.remove(65)  #or random_n.pop(3)\n",
    "print(random_n)"
   ]
  },
  {
   "cell_type": "markdown",
   "metadata": {},
   "source": [
    "Task 2: Find the Maximum and Minimum \n",
    "\n",
    "Write python code to Find the Maximum and Minimum. \n",
    "\n",
    "Test your code with the list [15, 2, 78, 34, 7, 90]. "
   ]
  },
  {
   "cell_type": "code",
   "execution_count": 42,
   "metadata": {},
   "outputs": [
    {
     "name": "stdout",
     "output_type": "stream",
     "text": [
      "2\n",
      "90\n"
     ]
    }
   ],
   "source": [
    "print(min(15, 2, 78, 34, 7, 90))\n",
    "print(max(15, 2, 78, 34, 7, 90))"
   ]
  },
  {
   "cell_type": "code",
   "execution_count": 44,
   "metadata": {},
   "outputs": [
    {
     "name": "stdout",
     "output_type": "stream",
     "text": [
      "90\n",
      "2\n"
     ]
    }
   ],
   "source": [
    "min_max=[15, 2, 78, 34, 7, 90]\n",
    "eng_katta=print(max(min_max))\n",
    "eng_kichik=print(min(min_max))"
   ]
  },
  {
   "cell_type": "markdown",
   "metadata": {},
   "source": [
    "Task 3: Sum and Average \n",
    "\n",
    "Write python code to calculates the sum and average of all elements in a list. \n",
    "\n",
    "Test your code with the list [10, 20, 30, 40, 50]. "
   ]
  },
  {
   "cell_type": "code",
   "execution_count": 59,
   "metadata": {},
   "outputs": [
    {
     "name": "stdout",
     "output_type": "stream",
     "text": [
      "150\n",
      "30.0\n"
     ]
    }
   ],
   "source": [
    "sum_list=[10, 20, 30, 40, 50]\n",
    "umumiy=print(sum(sum_list))\n",
    "averag= print(sum(sum_list)/len(sum_list))"
   ]
  },
  {
   "cell_type": "markdown",
   "metadata": {},
   "source": [
    "Task 4: Sorting and Reversing \n",
    "\n",
    "Create a list of strings: [\"banana\", \"apple\", \"cherry\", \"date\"]. \n",
    "\n",
    "Sort the list in ascending order. \n",
    "\n",
    "Reverse the order of the sorted list. "
   ]
  },
  {
   "cell_type": "code",
   "execution_count": 58,
   "metadata": {},
   "outputs": [
    {
     "name": "stdout",
     "output_type": "stream",
     "text": [
      "['apple', 'banana', 'cherry', 'date']\n",
      "['date', 'cherry', 'banana', 'apple']\n"
     ]
    }
   ],
   "source": [
    "my_list=[\"banana\", \"apple\", \"cherry\", \"date\"]\n",
    "sorted_my_list=print(sorted(my_list))\n",
    "sorted_list_dsc = print(sorted(my_list, reverse=True))"
   ]
  }
 ],
 "metadata": {
  "kernelspec": {
   "display_name": "Python 3",
   "language": "python",
   "name": "python3"
  },
  "language_info": {
   "codemirror_mode": {
    "name": "ipython",
    "version": 3
   },
   "file_extension": ".py",
   "mimetype": "text/x-python",
   "name": "python",
   "nbconvert_exporter": "python",
   "pygments_lexer": "ipython3",
   "version": "3.11.9"
  }
 },
 "nbformat": 4,
 "nbformat_minor": 2
}
