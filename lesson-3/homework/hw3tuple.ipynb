{
 "cells": [
  {
   "cell_type": "markdown",
   "metadata": {},
   "source": [
    "Level 1  \n",
    "\n",
    "Task 1: Create a Tuple \n",
    "\n",
    "Create a tuple containing 5 different types of elements (e.g., integer, string, float, boolean, list). "
   ]
  },
  {
   "cell_type": "code",
   "execution_count": 1,
   "metadata": {},
   "outputs": [
    {
     "data": {
      "text/plain": [
       "(5, 'salom', 3.14, True, [5, 'me', True])"
      ]
     },
     "execution_count": 1,
     "metadata": {},
     "output_type": "execute_result"
    }
   ],
   "source": [
    "tpl=(5, \"salom\", 3.14, True, [5, \"me\", True])\n",
    "tpl"
   ]
  },
  {
   "cell_type": "markdown",
   "metadata": {},
   "source": [
    "Task 2: Access Elements \n",
    "\n",
    "Create a tuple: (\"apple\", \"banana\", \"cherry\", \"date\"). \n",
    "\n",
    "Access the second element. \n",
    "\n",
    "Access the last element using negative indexing. "
   ]
  },
  {
   "cell_type": "code",
   "execution_count": 4,
   "metadata": {},
   "outputs": [
    {
     "name": "stdout",
     "output_type": "stream",
     "text": [
      "cherry\n",
      "date\n"
     ]
    }
   ],
   "source": [
    "fruits=(\"apple\", \"banana\", \"cherry\", \"date\")\n",
    "print(fruits[2])\n",
    "print(fruits[-1])\n"
   ]
  },
  {
   "cell_type": "markdown",
   "metadata": {},
   "source": [
    "Task 3: Slicing \n",
    "\n",
    "Create a tuple: (10, 20, 30, 40, 50, 60). \n",
    "\n",
    "Extract a slice containing the middle three elements. \n",
    "\n",
    "Extract every other element from the tuple. "
   ]
  },
  {
   "cell_type": "code",
   "execution_count": 15,
   "metadata": {},
   "outputs": [
    {
     "name": "stdout",
     "output_type": "stream",
     "text": [
      "(20, 30, 40)\n",
      "(10, 50, 60)\n"
     ]
    }
   ],
   "source": [
    "numbers=(10, 20, 30, 40, 50, 60)\n",
    "print(numbers[1: 4])\n",
    "print(numbers[0:1]+ numbers[4:])"
   ]
  },
  {
   "cell_type": "markdown",
   "metadata": {},
   "source": [
    "Task 4: Membership Check \n",
    "\n",
    "Create a tuple: (\"red\", \"green\", \"blue\", \"yellow\"). \n",
    "\n",
    "Check if \"green\" is in the tuple. \n",
    "\n",
    "Check if \"purple\" is not in the tuple. "
   ]
  },
  {
   "cell_type": "code",
   "execution_count": 4,
   "metadata": {},
   "outputs": [
    {
     "name": "stdout",
     "output_type": "stream",
     "text": [
      "True\n",
      "True\n"
     ]
    }
   ],
   "source": [
    "colours =(\"red\", \"green\", \"blue\", \"yellow\") \n",
    "print(\"green\" in colours)     \n",
    "print(\"purple\" not in colours)"
   ]
  },
  {
   "cell_type": "markdown",
   "metadata": {},
   "source": [
    "Task 5: Length \n",
    "\n",
    "Create a tuple: (1, 2, 3, 4, 5, 6). \n",
    "\n",
    "Use the len function to find the length of the tuple. "
   ]
  },
  {
   "cell_type": "code",
   "execution_count": 5,
   "metadata": {},
   "outputs": [
    {
     "data": {
      "text/plain": [
       "6"
      ]
     },
     "execution_count": 5,
     "metadata": {},
     "output_type": "execute_result"
    }
   ],
   "source": [
    "length_tpl=(1, 2, 3, 4, 5, 6)\n",
    "len(length_tpl)"
   ]
  },
  {
   "cell_type": "markdown",
   "metadata": {},
   "source": [
    "Task 6: Tuple Concatenation \n",
    "\n",
    "Create two tuples: (\"a\", \"b\", \"c\") and (1, 2, 3). \n",
    "\n",
    "Concatenate them into a new tuple. "
   ]
  },
  {
   "cell_type": "code",
   "execution_count": 7,
   "metadata": {},
   "outputs": [
    {
     "name": "stdout",
     "output_type": "stream",
     "text": [
      "('a', 'b', 'c', 1, 2, 3)\n"
     ]
    }
   ],
   "source": [
    "letters=(\"a\", \"b\", \"c\")\n",
    "numbers=(1, 2, 3)\n",
    "letters_numbers=letters + numbers\n",
    "print(letters_numbers)"
   ]
  },
  {
   "cell_type": "markdown",
   "metadata": {},
   "source": [
    "Task 7: Count \n",
    "\n",
    "Create a tuple: .(1, 2, 2, 3, 4, 4, 4, 5) \n",
    "\n",
    "Count how many times the number 4 appears in the tuple. "
   ]
  },
  {
   "cell_type": "code",
   "execution_count": 8,
   "metadata": {},
   "outputs": [
    {
     "data": {
      "text/plain": [
       "3"
      ]
     },
     "execution_count": 8,
     "metadata": {},
     "output_type": "execute_result"
    }
   ],
   "source": [
    "count_tpl=(1, 2, 2, 3, 4, 4, 4, 5)\n",
    "count_tpl.count(4)"
   ]
  },
  {
   "cell_type": "markdown",
   "metadata": {},
   "source": [
    "Task 8: Index \n",
    "\n",
    "Create a tuple: (\"cat\", \"dog\", \"bird\", \"fish\"). \n",
    "\n",
    "Find the index of \"dog\" in the tuple. "
   ]
  },
  {
   "cell_type": "code",
   "execution_count": 9,
   "metadata": {},
   "outputs": [
    {
     "data": {
      "text/plain": [
       "1"
      ]
     },
     "execution_count": 9,
     "metadata": {},
     "output_type": "execute_result"
    }
   ],
   "source": [
    "index_tpl=(\"cat\", \"dog\", \"bird\", \"fish\")\n",
    "index_tpl.index(\"dog\")"
   ]
  },
  {
   "cell_type": "markdown",
   "metadata": {},
   "source": [
    "Task 9: Tuple Unpacking \n",
    "\n",
    "Create a tuple: (\"Python\", 3.10, \"Programming\"). \n",
    "\n",
    "Unpack the tuple into three variables and print each variable. "
   ]
  },
  {
   "cell_type": "code",
   "execution_count": 13,
   "metadata": {},
   "outputs": [
    {
     "name": "stdout",
     "output_type": "stream",
     "text": [
      "Python\n",
      "3.1\n",
      "Programming\n"
     ]
    }
   ],
   "source": [
    "unpack_tpl=(\"Python\", 3.10,  \"Programming\")\n",
    "a, *b, c=unpack_tpl\n",
    "print(a)\n",
    "print(*b)\n",
    "print(c)"
   ]
  },
  {
   "cell_type": "markdown",
   "metadata": {},
   "source": [
    "Task 10: Immutable Nature \n",
    "\n",
    "Create a tuple: (10, 20, 30). \n",
    "\n",
    "Try to change the first element to 15 and observe the result. "
   ]
  },
  {
   "cell_type": "code",
   "execution_count": 16,
   "metadata": {},
   "outputs": [
    {
     "name": "stdout",
     "output_type": "stream",
     "text": [
      "[15, 20, 30]\n"
     ]
    }
   ],
   "source": [
    "my_tpl=(10, 20, 30)\n",
    "#tuple can not be modified\n",
    "#but we can change it to list and then it can be modified in list type\n",
    "my_tpl=list(my_tpl)\n",
    "my_tpl[0]=15\n",
    "print(my_tpl)\n"
   ]
  },
  {
   "cell_type": "code",
   "execution_count": 17,
   "metadata": {},
   "outputs": [
    {
     "name": "stdout",
     "output_type": "stream",
     "text": [
      "(15, 20, 30)\n"
     ]
    }
   ],
   "source": [
    "#in the end we can change it to tuple again\n",
    "my_tpl=tuple(my_tpl)\n",
    "print(my_tpl)"
   ]
  }
 ],
 "metadata": {
  "kernelspec": {
   "display_name": "Python 3",
   "language": "python",
   "name": "python3"
  },
  "language_info": {
   "codemirror_mode": {
    "name": "ipython",
    "version": 3
   },
   "file_extension": ".py",
   "mimetype": "text/x-python",
   "name": "python",
   "nbconvert_exporter": "python",
   "pygments_lexer": "ipython3",
   "version": "3.11.9"
  }
 },
 "nbformat": 4,
 "nbformat_minor": 2
}
