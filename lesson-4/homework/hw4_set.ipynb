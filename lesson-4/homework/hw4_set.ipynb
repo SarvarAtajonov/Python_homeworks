{
 "cells": [
  {
   "cell_type": "markdown",
   "metadata": {},
   "source": [
    "Python Data Types: Sets - Exercises"
   ]
  },
  {
   "cell_type": "code",
   "execution_count": 6,
   "metadata": {},
   "outputs": [
    {
     "data": {
      "text/plain": [
       "{1, 5, 6, 9, 15, 25}"
      ]
     },
     "execution_count": 6,
     "metadata": {},
     "output_type": "execute_result"
    }
   ],
   "source": [
    "#1. Write a Python program to create a set.\n",
    "my_set={1, 1 ,5, 6, 5, 15, 9, 25}\n",
    "my_set"
   ]
  },
  {
   "cell_type": "code",
   "execution_count": 5,
   "metadata": {},
   "outputs": [
    {
     "name": "stdout",
     "output_type": "stream",
     "text": [
      "1\n",
      "5\n",
      "6\n",
      "9\n",
      "25\n",
      "15\n"
     ]
    }
   ],
   "source": [
    "#2. Write a Python program to iterate over sets.\n",
    "for i in my_set:\n",
    "    print(i)"
   ]
  },
  {
   "cell_type": "code",
   "execution_count": 7,
   "metadata": {},
   "outputs": [
    {
     "data": {
      "text/plain": [
       "{1, 5, 6, 9, 10, 15, 25}"
      ]
     },
     "execution_count": 7,
     "metadata": {},
     "output_type": "execute_result"
    }
   ],
   "source": [
    "#3. Write a Python program to add member(s) to a set.\n",
    "my_set.add(10)\n",
    "my_set"
   ]
  },
  {
   "cell_type": "code",
   "execution_count": 8,
   "metadata": {},
   "outputs": [
    {
     "data": {
      "text/plain": [
       "{1, 5, 6, 9, 10, 25}"
      ]
     },
     "execution_count": 8,
     "metadata": {},
     "output_type": "execute_result"
    }
   ],
   "source": [
    "#4. Write a Python program to remove item(s) from a given set.\n",
    "my_set.remove(15)\n",
    "my_set"
   ]
  },
  {
   "cell_type": "code",
   "execution_count": 9,
   "metadata": {},
   "outputs": [
    {
     "data": {
      "text/plain": [
       "{5, 6, 9, 10, 25}"
      ]
     },
     "execution_count": 9,
     "metadata": {},
     "output_type": "execute_result"
    }
   ],
   "source": [
    "#5. Write a Python program to remove an item from a set if it is present in the set.\n",
    "my_set.pop()\n",
    "my_set"
   ]
  },
  {
   "cell_type": "code",
   "execution_count": 13,
   "metadata": {},
   "outputs": [
    {
     "data": {
      "text/plain": [
       "{1, 5, 25}"
      ]
     },
     "execution_count": 13,
     "metadata": {},
     "output_type": "execute_result"
    }
   ],
   "source": [
    "#6. Write a Python program to create an intersection of sets.\n",
    "my_set={1, 1 ,5, 6, 5, 15, 9, 25}\n",
    "set2={1, 5, 4, 25}\n",
    "my_set.intersection(set2)"
   ]
  },
  {
   "cell_type": "code",
   "execution_count": 11,
   "metadata": {},
   "outputs": [
    {
     "data": {
      "text/plain": [
       "{1, 15, 25, 5, 6, 9, 'w3recourse'}"
      ]
     },
     "execution_count": 11,
     "metadata": {},
     "output_type": "execute_result"
    }
   ],
   "source": [
    "#7. Write a Python program to create a union of sets.\n",
    "my_set={1, 1 ,5, 6, 5, 15, 9, 25}\n",
    "str_set={'w3recourse'}\n",
    "my_set.union(str_set)"
   ]
  },
  {
   "cell_type": "code",
   "execution_count": 12,
   "metadata": {},
   "outputs": [
    {
     "data": {
      "text/plain": [
       "{6, 9, 15}"
      ]
     },
     "execution_count": 12,
     "metadata": {},
     "output_type": "execute_result"
    }
   ],
   "source": [
    "#8. Write a Python program to create set difference.\n",
    "my_set={1, 1 ,5, 6, 5, 15, 9, 25}\n",
    "set2={1, 5, 4, 25}\n",
    "my_set.difference(set2)"
   ]
  },
  {
   "cell_type": "code",
   "execution_count": 14,
   "metadata": {},
   "outputs": [
    {
     "data": {
      "text/plain": [
       "{4, 6, 9, 15}"
      ]
     },
     "execution_count": 14,
     "metadata": {},
     "output_type": "execute_result"
    }
   ],
   "source": [
    "#9. Write a Python program to create a symmetric difference.\n",
    "my_set={1, 1 ,5, 6, 5, 15, 9, 25}\n",
    "set2={1, 5, 4, 25}\n",
    "my_set.symmetric_difference(set2)"
   ]
  },
  {
   "cell_type": "code",
   "execution_count": 15,
   "metadata": {},
   "outputs": [
    {
     "data": {
      "text/plain": [
       "False"
      ]
     },
     "execution_count": 15,
     "metadata": {},
     "output_type": "execute_result"
    }
   ],
   "source": [
    "#10. Write a Python program to check if a set is a subset of another set\n",
    "my_set={1, 1 ,5, 6, 5, 15, 9, 25}\n",
    "set2={1, 5, 4, 25}\n",
    "my_set.issubset(set2)"
   ]
  },
  {
   "cell_type": "code",
   "execution_count": 18,
   "metadata": {},
   "outputs": [
    {
     "name": "stdout",
     "output_type": "stream",
     "text": [
      "{1, 4, 5, 25}\n",
      "{1, 4, 5, 25}\n"
     ]
    }
   ],
   "source": [
    "#11. Write a Python program to create a shallow copy of sets.\n",
    "set2={1, 5, 4, 25}\n",
    "set1=set2\n",
    "print(set1)\n",
    "print(set2)"
   ]
  },
  {
   "cell_type": "code",
   "execution_count": 22,
   "metadata": {},
   "outputs": [
    {
     "data": {
      "text/plain": [
       "set()"
      ]
     },
     "execution_count": 22,
     "metadata": {},
     "output_type": "execute_result"
    }
   ],
   "source": [
    "#12. Write a Python program to remove all elements from a given set.\n",
    "my_set={1, 1 ,5, 6, 5, 15, 9, 25}\n",
    "my_set.clear()\n",
    "my_set"
   ]
  },
  {
   "cell_type": "code",
   "execution_count": 23,
   "metadata": {},
   "outputs": [
    {
     "data": {
      "text/plain": [
       "frozenset({1, 5, 6, 9, 15, 25})"
      ]
     },
     "execution_count": 23,
     "metadata": {},
     "output_type": "execute_result"
    }
   ],
   "source": [
    "#13. Write a Python program that uses frozensets.\n",
    "#Note: Frozensets behave just like sets except they are immutable.\n",
    "\n",
    "my_set=frozenset({1, 1 ,5, 6, 5, 15, 9, 25})\n",
    "my_set"
   ]
  },
  {
   "cell_type": "code",
   "execution_count": 24,
   "metadata": {},
   "outputs": [
    {
     "name": "stdout",
     "output_type": "stream",
     "text": [
      "25\n",
      "1\n"
     ]
    }
   ],
   "source": [
    "#14. Write a Python program to find the maximum and minimum values in a set.\n",
    "my_set={1, 1 ,5, 6, 5, 15, 9, 25}\n",
    "print(max(my_set))\n",
    "print(min(my_set))"
   ]
  },
  {
   "cell_type": "code",
   "execution_count": 26,
   "metadata": {},
   "outputs": [
    {
     "name": "stdout",
     "output_type": "stream",
     "text": [
      "5\n"
     ]
    }
   ],
   "source": [
    "#15. Write a Python program to find the length of a set.\n",
    "str_set={1, 1 ,5, 6, 5, 15, \"ajdfso\"}\n",
    "print(len(str_set))"
   ]
  },
  {
   "cell_type": "code",
   "execution_count": 29,
   "metadata": {},
   "outputs": [
    {
     "name": "stdout",
     "output_type": "stream",
     "text": [
      "True\n",
      "False\n",
      "False\n",
      "True\n"
     ]
    }
   ],
   "source": [
    "#16. Write a Python program to check if a given value is present in a set or not.\n",
    "str_set={1, 1 ,5, 6, 5, 15, \"ajdfso\"}\n",
    "print(6 in str_set)\n",
    "print(6 not in str_set)\n",
    "print(14 in str_set)\n",
    "print(14 not in str_set)"
   ]
  },
  {
   "cell_type": "code",
   "execution_count": 33,
   "metadata": {},
   "outputs": [
    {
     "name": "stdout",
     "output_type": "stream",
     "text": [
      "have common elements\n"
     ]
    }
   ],
   "source": [
    "#17. Write a Python program to check if two given sets have no elements in common.\n",
    "my_set={1, 1 ,5, 6, 5, 15, 9, 25}\n",
    "set2={1, 5, 4, 25}\n",
    "if my_set.isdisjoint(set2):\n",
    "    print(\"have no elements in common\")\n",
    "else:\n",
    "    print(\"have common elements\")"
   ]
  },
  {
   "cell_type": "code",
   "execution_count": 37,
   "metadata": {},
   "outputs": [
    {
     "data": {
      "text/plain": [
       "True"
      ]
     },
     "execution_count": 37,
     "metadata": {},
     "output_type": "execute_result"
    }
   ],
   "source": [
    "#18. Write a Python program to check if a given set is a superset of itself and a superset of another given set.\n",
    "my_set={1, 1 ,5, 6, 5, 15, 9, 25}\n",
    "set2={1, 5, 25}\n",
    "my_set.issuperset(set2)"
   ]
  },
  {
   "cell_type": "code",
   "execution_count": 38,
   "metadata": {},
   "outputs": [
    {
     "data": {
      "text/plain": [
       "{6, 9, 15}"
      ]
     },
     "execution_count": 38,
     "metadata": {},
     "output_type": "execute_result"
    }
   ],
   "source": [
    "#19. Write a Python program to find elements in a given set that are not in another set.\n",
    "my_set={1, 1 ,5, 6, 5, 15, 9, 25}\n",
    "set2={1, 5, 25}\n",
    "my_set.difference(set2)"
   ]
  },
  {
   "cell_type": "code",
   "execution_count": 58,
   "metadata": {},
   "outputs": [
    {
     "name": "stdout",
     "output_type": "stream",
     "text": [
      "{1, 5, 25}\n",
      "{9, 6, 15}\n",
      "{8, 14}\n"
     ]
    }
   ],
   "source": [
    "#20. Write a Python program to remove the intersection of a second set with a first set.\n",
    "my_set={1, 1 ,5, 6, 5, 15, 9, 25}\n",
    "set2={1, 5, 25, 14, 8}\n",
    "\n",
    "print(my_set.intersection(set2))\n",
    "        \n",
    "print(my_set-(my_set.intersection(set2)))\n",
    "print(set2-(my_set.intersection(set2)))"
   ]
  }
 ],
 "metadata": {
  "kernelspec": {
   "display_name": "Python 3",
   "language": "python",
   "name": "python3"
  },
  "language_info": {
   "codemirror_mode": {
    "name": "ipython",
    "version": 3
   },
   "file_extension": ".py",
   "mimetype": "text/x-python",
   "name": "python",
   "nbconvert_exporter": "python",
   "pygments_lexer": "ipython3",
   "version": "3.11.9"
  }
 },
 "nbformat": 4,
 "nbformat_minor": 2
}
