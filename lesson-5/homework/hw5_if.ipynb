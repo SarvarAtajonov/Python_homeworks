{
 "cells": [
  {
   "cell_type": "markdown",
   "metadata": {},
   "source": [
    "Python if else statement Practise - TEST1\n",
    "\n",
    "https://csiplearninghub.com/python-if-else-conditional-statement-practice/#google_vignette"
   ]
  },
  {
   "cell_type": "code",
   "execution_count": 2,
   "metadata": {},
   "outputs": [
    {
     "name": "stdout",
     "output_type": "stream",
     "text": [
      "number is even\n"
     ]
    }
   ],
   "source": [
    "#Q5. write a code to check number is even or odd\n",
    "\n",
    "number = int(input(\"enter the number\"))\n",
    "if number%2==0:\n",
    "    print(\"number is even\")\n",
    "else:\n",
    "    print(\"number is odd\")"
   ]
  },
  {
   "cell_type": "code",
   "execution_count": 6,
   "metadata": {},
   "outputs": [
    {
     "name": "stdout",
     "output_type": "stream",
     "text": [
      "NO\n"
     ]
    }
   ],
   "source": [
    "#Q6. Write a program to check whether a number is divisible by 7 or not.\n",
    "\n",
    "num=int(input(\"enter the number\"))\n",
    "if num%7==0:\n",
    "    print(\"YES\")\n",
    "else:\n",
    "    print(\"NO\")"
   ]
  },
  {
   "cell_type": "code",
   "execution_count": 8,
   "metadata": {},
   "outputs": [
    {
     "name": "stdout",
     "output_type": "stream",
     "text": [
      "Bye\n"
     ]
    }
   ],
   "source": [
    "#Q7. Write a program to display 'Hello\" if a number entered by user is a multiple of five , otherwise print \"Bye\"\n",
    "\n",
    "number=int(input(\"enter a number\"))\n",
    "if number%5==0:\n",
    "    print(\"Hello\")\n",
    "else:\n",
    "    print(\"Bye\")"
   ]
  },
  {
   "cell_type": "code",
   "execution_count": 16,
   "metadata": {},
   "outputs": [
    {
     "name": "stdout",
     "output_type": "stream",
     "text": [
      "last digit of number is 8\n"
     ]
    }
   ],
   "source": [
    "#Q9. Write a program to display the last digit of a number. (hint : any number % 10 will return the last digit)\n",
    "\n",
    "digit=int(input(\"enter a number\"))\n",
    "print(\"last digit of number is\", digit%10)"
   ]
  },
  {
   "cell_type": "code",
   "execution_count": 18,
   "metadata": {},
   "outputs": [
    {
     "name": "stdout",
     "output_type": "stream",
     "text": [
      "No\n"
     ]
    }
   ],
   "source": [
    "#Q10. Write a program to check whether the last digit of a number( entered by user ) is  divisible by 3 or not\n",
    "\n",
    "digit=int(input(\"enter a number\"))\n",
    "last_digit=digit%10\n",
    "if last_digit%3==0:\n",
    "    print('Yes')\n",
    "else:\n",
    "    print('No')"
   ]
  },
  {
   "cell_type": "markdown",
   "metadata": {},
   "source": [
    "Python if else statement Practise - TEST2\n",
    "\n",
    "https://csiplearninghub.com/python-if-else-conditional-statement-practice/#google_vignette"
   ]
  },
  {
   "cell_type": "markdown",
   "metadata": {},
   "source": [
    "QI. Write a program to accept percentage from the user and display the grade according to the \n",
    "following criteria: \n",
    "Marks               Grade \n",
    "> 90                  A\n",
    "> 80 and <= 90        B\n",
    ">=60 and <= 80        C\n",
    "below 60              D"
   ]
  },
  {
   "cell_type": "code",
   "execution_count": 26,
   "metadata": {},
   "outputs": [
    {
     "name": "stdout",
     "output_type": "stream",
     "text": [
      "Grade: B\n"
     ]
    }
   ],
   "source": [
    "percentage=int(input(\"enter the percentage\"))\n",
    "if percentage>90 and percentage<=100:\n",
    "    print(\"Grade: A\")\n",
    "elif percentage> 80 and percentage<= 90:\n",
    "    print(\"Grade: B\")\n",
    "elif percentage>=60 and percentage<= 80:\n",
    "    print(\"Grade: C\")\n",
    "elif percentage<60 and percentage>=0:\n",
    "    print(\"Grade: D\")\n",
    "else:\n",
    "    print(\"enter correctly\")"
   ]
  },
  {
   "cell_type": "markdown",
   "metadata": {},
   "source": [
    "Q2. Write a program to accept the cost price ofa bike and display the road tax to be paid according \n",
    "to the following criteria :\n",
    "\n",
    "cost price (in RS)              Tax\n",
    ">100000                         15%\n",
    ">50000 and <=100000             10%\n",
    "<=50000                          5%"
   ]
  },
  {
   "cell_type": "code",
   "execution_count": 31,
   "metadata": {},
   "outputs": [
    {
     "name": "stdout",
     "output_type": "stream",
     "text": [
      "15%\n"
     ]
    }
   ],
   "source": [
    "tax=int(input(\"enter the number\"))\n",
    "if tax>100000:\n",
    "    print(\"15%\")\n",
    "elif tax>50000 and tax<=100000:\n",
    "    print(\"10%\")\n",
    "elif tax<=50000  and  tax>0:\n",
    "    print(\"5%\")\n",
    "else:\n",
    "    print(\"please enter correctly\")"
   ]
  },
  {
   "cell_type": "code",
   "execution_count": 36,
   "metadata": {},
   "outputs": [
    {
     "name": "stdout",
     "output_type": "stream",
     "text": [
      "enter correct number\n"
     ]
    }
   ],
   "source": [
    "#Q4. Write a program to accept a number from 1 to 7 and display the name of the day like 1 for  Sunday , 2 for Monday and so on. \n",
    "\n",
    "weeks=int(input(\"enter week days with numbers\"))\n",
    "if weeks==1:\n",
    "    print(\"Sunday\")\n",
    "elif weeks==2:\n",
    "    print(\"Monday\")\n",
    "elif weeks==3:\n",
    "    print(\"Tuesday\")\n",
    "elif weeks==4:\n",
    "    print(\"Wednesday\")\n",
    "elif weeks==5:\n",
    "    print(\"Thursday\")\n",
    "elif weeks==6:\n",
    "    print(\"Friday\")\n",
    "elif weeks==7:\n",
    "    print(\"Saturday\")\n",
    "else:\n",
    "    print(\"enter correct number\")"
   ]
  },
  {
   "cell_type": "code",
   "execution_count": 42,
   "metadata": {},
   "outputs": [
    {
     "name": "stdout",
     "output_type": "stream",
     "text": [
      "June\n"
     ]
    }
   ],
   "source": [
    "#Q5. Write a program to accept a number from 1 to 12 and display name of the month and days in  that \n",
    "# month like 1 for January and number of days 31 and so on\n",
    "\n",
    "month=int(input(\"enter numbers between 1 and 12\"))\n",
    "if month==1:\n",
    "    print(\"January\")\n",
    "elif month==2:\n",
    "    print(\"February\")\n",
    "elif month==3:\n",
    "    print(\"March\")\n",
    "elif month==4:\n",
    "    print(\"April\")\n",
    "elif month==5:\n",
    "    print(\"May\")\n",
    "elif month==6:\n",
    "    print(\"June\")\n",
    "elif month==7:\n",
    "    print(\"July\")\n",
    "elif month==8:\n",
    "    print(\"August\")\n",
    "elif month==9:\n",
    "    print(\"September\")\n",
    "elif month==10:\n",
    "    print(\"October\")\n",
    "elif month==11:\n",
    "    print(\"November\")\n",
    "elif month==12:\n",
    "    print(\"December\")\n",
    "else:\n",
    "    print(\"enter correct number\")"
   ]
  },
  {
   "cell_type": "markdown",
   "metadata": {},
   "source": [
    "Q9. Accept any city from the user and display monument of that city. \n",
    "\n",
    "Citi             Monument\n",
    "\n",
    "Dehli            Red fort\n",
    "Agra             Taj mahal\n",
    "Jaipur           Jal mahal"
   ]
  },
  {
   "cell_type": "code",
   "execution_count": 47,
   "metadata": {},
   "outputs": [
    {
     "name": "stdout",
     "output_type": "stream",
     "text": [
      "Jal mahal\n"
     ]
    }
   ],
   "source": [
    "city=str(input(\"Enter the name of city\"))\n",
    "if city==\"Dehli\":\n",
    "    print(\"Red fort\")\n",
    "elif city==\"Agra\":\n",
    "    print(\"Taj mahal\")\n",
    "elif city==\"Jaipur\":\n",
    "    print(\"Jal mahal\")\n",
    "else:\n",
    "    print(\"Error\")"
   ]
  }
 ],
 "metadata": {
  "kernelspec": {
   "display_name": "Python 3",
   "language": "python",
   "name": "python3"
  },
  "language_info": {
   "codemirror_mode": {
    "name": "ipython",
    "version": 3
   },
   "file_extension": ".py",
   "mimetype": "text/x-python",
   "name": "python",
   "nbconvert_exporter": "python",
   "pygments_lexer": "ipython3",
   "version": "undefined.undefined.undefined"
  }
 },
 "nbformat": 4,
 "nbformat_minor": 2
}
