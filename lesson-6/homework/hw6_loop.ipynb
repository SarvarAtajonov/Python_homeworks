{
 "cells": [
  {
   "cell_type": "markdown",
   "metadata": {},
   "source": [
    "2. return uncommon elements of lists. (order of elements does not matter) \n",
    "\n",
    "input : list1=[1, 1, 2], list2=[2, 3, 4]\n",
    "output :[1, 1, 3, 4] \n",
    "\n",
    "input : list1 [1, 2, 3], list2 =[4, 5, 6]\n",
    "output : [1, 2, 3, 4, 5, 6] \n",
    "\n",
    "input : listl=[1, 1, 2, 3, 4, 2], list2 =[1, 3, 4, 5]\n",
    "output : [2, 2, 5] "
   ]
  },
  {
   "cell_type": "code",
   "execution_count": 11,
   "metadata": {},
   "outputs": [
    {
     "name": "stdout",
     "output_type": "stream",
     "text": [
      "[1, 1, 3, 4]\n"
     ]
    }
   ],
   "source": [
    "list1=[1, 1, 2]\n",
    "list2=[2, 3, 4]\n",
    "list3=[]\n",
    "  \n",
    "for uncommon in list1:\n",
    "    if uncommon not in list2:\n",
    "        list3.append(uncommon)\n",
    "    \n",
    "for uncommon in list2:\n",
    "    if uncommon not in list1:\n",
    "        list3.append(uncommon)\n",
    "    \n",
    "print(list3)"
   ]
  },
  {
   "cell_type": "code",
   "execution_count": 13,
   "metadata": {},
   "outputs": [
    {
     "name": "stdout",
     "output_type": "stream",
     "text": [
      "[1, 2, 3, 4, 5, 6]\n"
     ]
    }
   ],
   "source": [
    "list4=[1, 2, 3] \n",
    "list5 =[4, 5, 6]\n",
    "list6=[]\n",
    "\n",
    "for a in list4:\n",
    "    if a not in list5:\n",
    "        list6.append(a)\n",
    "        \n",
    "for a in list5:\n",
    "    if a not in list4:\n",
    "        list6.append(a)\n",
    "        \n",
    "print(list6)\n",
    "        "
   ]
  },
  {
   "cell_type": "code",
   "execution_count": 14,
   "metadata": {},
   "outputs": [
    {
     "name": "stdout",
     "output_type": "stream",
     "text": [
      "[2, 2, 5]\n"
     ]
    }
   ],
   "source": [
    "list7=[1, 1, 2, 3, 4, 2]\n",
    "list8=[1, 3, 4, 5]\n",
    "list9=[]\n",
    "\n",
    "for b in list7:\n",
    "    if b  not in list8:\n",
    "        list9.append(b)\n",
    "        \n",
    "for b in list8:\n",
    "    if b  not in list7:\n",
    "        list9.append(b)\n",
    "        \n",
    "print(list9)"
   ]
  },
  {
   "cell_type": "markdown",
   "metadata": {},
   "source": [
    "3. txt nomli string saqlovchi oizgaruvchi berilgan. txt dagi har uchinchi belgidan keyin pastki chiziqcha (underscore) qo'yilsin. \n",
    "Agar belgi unli harf yoki orqasidan ostki chiziqcha qo'yilgan harf bo'lsa,  ostki chiziqcha keyingi harfdan keyin qo'yilsin. \n",
    "Agar belgi satrdagi ohirgi belgi bo'lsa chiziqcha qo'yilmasin. \n",
    "\n",
    "input : hello \n",
    "output : hel_lo\n",
    "\n",
    "input : assalom \n",
    "output : ass_alom\n",
    "\n",
    "input : abcabcdabcdeabcdefabcdefg \n",
    "output : abc_abcd_abcdeab_cdef_abcdefg"
   ]
  },
  {
   "cell_type": "code",
   "execution_count": 3,
   "metadata": {},
   "outputs": [
    {
     "name": "stdout",
     "output_type": "stream",
     "text": [
      "hel_lo\n"
     ]
    }
   ],
   "source": [
    "txt=\"hello\" \n",
    "output=\"\"\n",
    "\n",
    "for index, char in enumerate(txt):\n",
    "    output+=char\n",
    "    if (index+1)%3==0 and index!=0:\n",
    "        output+=\"_\"\n",
    "\n",
    "    \n",
    "print(output)\n"
   ]
  },
  {
   "cell_type": "code",
   "execution_count": 20,
   "metadata": {},
   "outputs": [
    {
     "name": "stdout",
     "output_type": "stream",
     "text": [
      "ass_alom\n"
     ]
    }
   ],
   "source": [
    "txt=\"assalom\"\n",
    "unlilar=\"aeiou\"\n",
    "result=\"\"\n",
    "pre_used_char=\"\"\n",
    "index_dif=0\n",
    "\n",
    "for index, char in enumerate(txt):\n",
    "    result+=char\n",
    "    if (index+1-index_dif)%3==0 and index!=0 and index!=len(txt)-1:\n",
    "        if char in unlilar or char in pre_used_char:\n",
    "            index_dif+=1\n",
    "            continue\n",
    "        pre_used_char+=char\n",
    "        result+=\"_\"\n",
    "        \n",
    "print(result)"
   ]
  },
  {
   "cell_type": "code",
   "execution_count": 19,
   "metadata": {},
   "outputs": [
    {
     "name": "stdout",
     "output_type": "stream",
     "text": [
      "abc_abcd_abcdeab_cdef_abcdefg\n"
     ]
    }
   ],
   "source": [
    "txt=\"abcabcdabcdeabcdefabcdefg\"\n",
    "unlilar=\"aeiou\"\n",
    "result=\"\"\n",
    "pre_used_char=\"\"\n",
    "index_dif=0\n",
    "\n",
    "for index, char in enumerate(txt):\n",
    "    result+=char\n",
    "    if (index+1-index_dif)%3==0 and index!=0 and index!=len(txt)-1:\n",
    "        if char in unlilar or char in pre_used_char:\n",
    "            index_dif+=1\n",
    "            continue\n",
    "        pre_used_char+=char\n",
    "        result+=\"_\"\n",
    "        \n",
    "print(result)"
   ]
  }
 ],
 "metadata": {
  "kernelspec": {
   "display_name": "Python 3",
   "language": "python",
   "name": "python3"
  },
  "language_info": {
   "codemirror_mode": {
    "name": "ipython",
    "version": 3
   },
   "file_extension": ".py",
   "mimetype": "text/x-python",
   "name": "python",
   "nbconvert_exporter": "python",
   "pygments_lexer": "ipython3",
   "version": "3.11.9"
  }
 },
 "nbformat": 4,
 "nbformat_minor": 2
}
