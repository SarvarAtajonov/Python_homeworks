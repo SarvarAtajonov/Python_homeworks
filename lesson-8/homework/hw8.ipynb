{
 "cells": [
  {
   "cell_type": "code",
   "execution_count": 30,
   "metadata": {},
   "outputs": [],
   "source": [
    "fs=open('exemple.txt', 'w')\n",
    "fs.write('this is first line')\n",
    "fs.close()"
   ]
  },
  {
   "cell_type": "code",
   "execution_count": 42,
   "metadata": {},
   "outputs": [],
   "source": [
    "with open(r'C:\\python\\.vscode\\exemple.txt','a') as fs:\n",
    "    fs.write('\\nthis is eighth line')"
   ]
  },
  {
   "cell_type": "code",
   "execution_count": 34,
   "metadata": {},
   "outputs": [],
   "source": [
    "with open(r'C:\\python\\.vscode\\exemple.txt','a') as fs:\n",
    "    fs.writelines('\\nthis is fifth line \\nthis is sixth line')\n",
    "    "
   ]
  },
  {
   "cell_type": "code",
   "execution_count": 43,
   "metadata": {},
   "outputs": [
    {
     "name": "stdout",
     "output_type": "stream",
     "text": [
      "this is first line\n",
      "this is second line\n",
      "this is third line\n",
      "this is fourth line\n",
      "this is fifth line \n",
      "this is sixth line\n",
      "this is seventh line\n",
      "this is eighth line\n"
     ]
    }
   ],
   "source": [
    "with open(r'C:\\python\\.vscode\\exemple.txt','r') as fs:\n",
    "    file=fs.read()\n",
    "    print(file)"
   ]
  },
  {
   "cell_type": "code",
   "execution_count": 39,
   "metadata": {},
   "outputs": [
    {
     "name": "stdout",
     "output_type": "stream",
     "text": [
      "['this is first line\\n', 'this is second line\\n', 'this is third line\\n', 'this is fourth line\\n', 'this is fifth line \\n', 'this is sixth line']\n"
     ]
    }
   ],
   "source": [
    "with open(r'C:\\python\\.vscode\\exemple.txt','r') as fs:\n",
    "    file=fs.readlines()\n",
    "    print(file)"
   ]
  },
  {
   "cell_type": "code",
   "execution_count": 40,
   "metadata": {},
   "outputs": [
    {
     "name": "stdout",
     "output_type": "stream",
     "text": [
      "this is first line\n",
      "\n"
     ]
    }
   ],
   "source": [
    "with open(r'C:\\python\\.vscode\\exemple.txt','r') as fs:\n",
    "    file=fs.readline()\n",
    "    print(file)"
   ]
  },
  {
   "cell_type": "code",
   "execution_count": null,
   "metadata": {},
   "outputs": [],
   "source": []
  }
 ],
 "metadata": {
  "kernelspec": {
   "display_name": "Python 3",
   "language": "python",
   "name": "python3"
  },
  "language_info": {
   "codemirror_mode": {
    "name": "ipython",
    "version": 3
   },
   "file_extension": ".py",
   "mimetype": "text/x-python",
   "name": "python",
   "nbconvert_exporter": "python",
   "pygments_lexer": "ipython3",
   "version": "3.11.9"
  }
 },
 "nbformat": 4,
 "nbformat_minor": 2
}
