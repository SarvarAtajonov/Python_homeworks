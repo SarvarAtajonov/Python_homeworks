{
 "cells": [
  {
   "cell_type": "code",
   "execution_count": 3,
   "metadata": {},
   "outputs": [
    {
     "name": "stdout",
     "output_type": "stream",
     "text": [
      "The division by zero operation is not allowed.\n"
     ]
    }
   ],
   "source": [
    "#1. Write a Python program to handle a ZeroDivisionError exception when dividing a number by zero.\n",
    "\n",
    "try:\n",
    "    print(526/0)\n",
    "except:\n",
    "    print(\"The division by zero operation is not allowed.\")\n",
    "    "
   ]
  },
  {
   "cell_type": "code",
   "execution_count": null,
   "metadata": {},
   "outputs": [
    {
     "name": "stdout",
     "output_type": "stream",
     "text": [
      "Error: Invalid input. Please enter a valid integer.\n"
     ]
    }
   ],
   "source": [
    "#2. Write a Python program that prompts the user to input an integer and raises a ValueError exception if the input is not a valid integer.\n",
    "\n",
    "try:\n",
    "    print(int(input(\"Enter a number\")))\n",
    "except ValueError:\n",
    "    print(\"Error: Invalid input. Please enter a valid integer.\")"
   ]
  },
  {
   "cell_type": "code",
   "execution_count": 5,
   "metadata": {},
   "outputs": [
    {
     "name": "stdout",
     "output_type": "stream",
     "text": [
      "Error: The file was not found.\n"
     ]
    }
   ],
   "source": [
    "#3. Write a Python program that opens a file and handles a FileNotFoundError exception if the file does not exist.\n",
    "\n",
    "try:\n",
    "    with open (path,'r+') as fp:\n",
    "        print(fp.read())\n",
    "except Exception as ex:\n",
    "    print(\"Error: The file was not found.\")"
   ]
  }
 ],
 "metadata": {
  "kernelspec": {
   "display_name": "Python 3",
   "language": "python",
   "name": "python3"
  },
  "language_info": {
   "codemirror_mode": {
    "name": "ipython",
    "version": 3
   },
   "file_extension": ".py",
   "mimetype": "text/x-python",
   "name": "python",
   "nbconvert_exporter": "python",
   "pygments_lexer": "ipython3",
   "version": "3.11.9"
  }
 },
 "nbformat": 4,
 "nbformat_minor": 2
}
